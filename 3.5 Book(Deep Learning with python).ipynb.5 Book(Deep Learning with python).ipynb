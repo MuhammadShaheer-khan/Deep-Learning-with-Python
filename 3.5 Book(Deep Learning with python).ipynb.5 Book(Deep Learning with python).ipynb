{
 "cells": [
  {
   "cell_type": "code",
   "execution_count": 0,
   "metadata": {
    "colab": {
     "base_uri": "https://localhost:8080/",
     "height": 51
    },
    "colab_type": "code",
    "executionInfo": {
     "elapsed": 7289,
     "status": "ok",
     "timestamp": 1578405237239,
     "user": {
      "displayName": "Ahmed Ghani",
      "photoUrl": "",
      "userId": "15127856023220592088"
     },
     "user_tz": -300
    },
    "id": "bMEk6ysHx3qP",
    "outputId": "9656956f-2d51-4687-8c2b-5aaa448154f4"
   },
   "outputs": [
    {
     "name": "stdout",
     "output_type": "stream",
     "text": [
      "Downloading data from https://s3.amazonaws.com/text-datasets/imdb.npz\n",
      "17465344/17464789 [==============================] - 1s 0us/step\n"
     ]
    }
   ],
   "source": [
    "# import IMDB datasets\n",
    "#We'll be working with \"IMDB dataset\", a set of 50,000 highly-polarized reviews from the Internet Movie Database.\n",
    "#They are split into 25,000 reviews for training and 25,000 reviews for testing, each set consisting in 50% negative and 50% positive reviews.\n",
    "from keras.datasets import imdb\n",
    "\n",
    "# load_data as train and test sets\n",
    "\n",
    "(train_data,train_labels), (test_data, test_labels) =imdb.load_data(num_words=10000)"
   ]
  },
  {
   "cell_type": "markdown",
   "metadata": {
    "colab_type": "text",
    "id": "lHTk1pPZSJz_"
   },
   "source": [
    "The argument num_words=10000 means that we will only keep the top 10,000 most frequently occurring words in the training data. Rare words will be discarded. This allows us to work with vector data of manageable size.\n",
    "\n",
    "The variables train_data and test_data are lists of reviews, each review being a list of word indices (encoding a sequence of words). train_labels and test_labels are lists of 0s and 1s, where 0 stands for \"negative\" and 1 stands for \"positive\":"
   ]
  },
  {
   "cell_type": "code",
   "execution_count": 0,
   "metadata": {
    "colab": {
     "base_uri": "https://localhost:8080/",
     "height": 34
    },
    "colab_type": "code",
    "executionInfo": {
     "elapsed": 1307,
     "status": "ok",
     "timestamp": 1578405270965,
     "user": {
      "displayName": "Ahmed Ghani",
      "photoUrl": "",
      "userId": "15127856023220592088"
     },
     "user_tz": -300
    },
    "id": "5zS9nad8x_T_",
    "outputId": "64574b23-9147-49e4-e1ab-4c235246c0e6"
   },
   "outputs": [
    {
     "data": {
      "text/plain": [
       "(25000,)"
      ]
     },
     "execution_count": 4,
     "metadata": {
      "tags": []
     },
     "output_type": "execute_result"
    }
   ],
   "source": [
    "train_data.shape"
   ]
  },
  {
   "cell_type": "code",
   "execution_count": 0,
   "metadata": {
    "colab": {
     "base_uri": "https://localhost:8080/",
     "height": 1000
    },
    "colab_type": "code",
    "executionInfo": {
     "elapsed": 1048,
     "status": "ok",
     "timestamp": 1578405277911,
     "user": {
      "displayName": "Ahmed Ghani",
      "photoUrl": "",
      "userId": "15127856023220592088"
     },
     "user_tz": -300
    },
    "id": "yRjp6gUkyIsL",
    "outputId": "8886c0ad-4f2f-4ec5-b879-5e1d360e2d68"
   },
   "outputs": [
    {
     "data": {
      "text/plain": [
       "[1,\n",
       " 14,\n",
       " 22,\n",
       " 16,\n",
       " 43,\n",
       " 530,\n",
       " 973,\n",
       " 1622,\n",
       " 1385,\n",
       " 65,\n",
       " 458,\n",
       " 4468,\n",
       " 66,\n",
       " 3941,\n",
       " 4,\n",
       " 173,\n",
       " 36,\n",
       " 256,\n",
       " 5,\n",
       " 25,\n",
       " 100,\n",
       " 43,\n",
       " 838,\n",
       " 112,\n",
       " 50,\n",
       " 670,\n",
       " 2,\n",
       " 9,\n",
       " 35,\n",
       " 480,\n",
       " 284,\n",
       " 5,\n",
       " 150,\n",
       " 4,\n",
       " 172,\n",
       " 112,\n",
       " 167,\n",
       " 2,\n",
       " 336,\n",
       " 385,\n",
       " 39,\n",
       " 4,\n",
       " 172,\n",
       " 4536,\n",
       " 1111,\n",
       " 17,\n",
       " 546,\n",
       " 38,\n",
       " 13,\n",
       " 447,\n",
       " 4,\n",
       " 192,\n",
       " 50,\n",
       " 16,\n",
       " 6,\n",
       " 147,\n",
       " 2025,\n",
       " 19,\n",
       " 14,\n",
       " 22,\n",
       " 4,\n",
       " 1920,\n",
       " 4613,\n",
       " 469,\n",
       " 4,\n",
       " 22,\n",
       " 71,\n",
       " 87,\n",
       " 12,\n",
       " 16,\n",
       " 43,\n",
       " 530,\n",
       " 38,\n",
       " 76,\n",
       " 15,\n",
       " 13,\n",
       " 1247,\n",
       " 4,\n",
       " 22,\n",
       " 17,\n",
       " 515,\n",
       " 17,\n",
       " 12,\n",
       " 16,\n",
       " 626,\n",
       " 18,\n",
       " 2,\n",
       " 5,\n",
       " 62,\n",
       " 386,\n",
       " 12,\n",
       " 8,\n",
       " 316,\n",
       " 8,\n",
       " 106,\n",
       " 5,\n",
       " 4,\n",
       " 2223,\n",
       " 5244,\n",
       " 16,\n",
       " 480,\n",
       " 66,\n",
       " 3785,\n",
       " 33,\n",
       " 4,\n",
       " 130,\n",
       " 12,\n",
       " 16,\n",
       " 38,\n",
       " 619,\n",
       " 5,\n",
       " 25,\n",
       " 124,\n",
       " 51,\n",
       " 36,\n",
       " 135,\n",
       " 48,\n",
       " 25,\n",
       " 1415,\n",
       " 33,\n",
       " 6,\n",
       " 22,\n",
       " 12,\n",
       " 215,\n",
       " 28,\n",
       " 77,\n",
       " 52,\n",
       " 5,\n",
       " 14,\n",
       " 407,\n",
       " 16,\n",
       " 82,\n",
       " 2,\n",
       " 8,\n",
       " 4,\n",
       " 107,\n",
       " 117,\n",
       " 5952,\n",
       " 15,\n",
       " 256,\n",
       " 4,\n",
       " 2,\n",
       " 7,\n",
       " 3766,\n",
       " 5,\n",
       " 723,\n",
       " 36,\n",
       " 71,\n",
       " 43,\n",
       " 530,\n",
       " 476,\n",
       " 26,\n",
       " 400,\n",
       " 317,\n",
       " 46,\n",
       " 7,\n",
       " 4,\n",
       " 2,\n",
       " 1029,\n",
       " 13,\n",
       " 104,\n",
       " 88,\n",
       " 4,\n",
       " 381,\n",
       " 15,\n",
       " 297,\n",
       " 98,\n",
       " 32,\n",
       " 2071,\n",
       " 56,\n",
       " 26,\n",
       " 141,\n",
       " 6,\n",
       " 194,\n",
       " 7486,\n",
       " 18,\n",
       " 4,\n",
       " 226,\n",
       " 22,\n",
       " 21,\n",
       " 134,\n",
       " 476,\n",
       " 26,\n",
       " 480,\n",
       " 5,\n",
       " 144,\n",
       " 30,\n",
       " 5535,\n",
       " 18,\n",
       " 51,\n",
       " 36,\n",
       " 28,\n",
       " 224,\n",
       " 92,\n",
       " 25,\n",
       " 104,\n",
       " 4,\n",
       " 226,\n",
       " 65,\n",
       " 16,\n",
       " 38,\n",
       " 1334,\n",
       " 88,\n",
       " 12,\n",
       " 16,\n",
       " 283,\n",
       " 5,\n",
       " 16,\n",
       " 4472,\n",
       " 113,\n",
       " 103,\n",
       " 32,\n",
       " 15,\n",
       " 16,\n",
       " 5345,\n",
       " 19,\n",
       " 178,\n",
       " 32]"
      ]
     },
     "execution_count": 5,
     "metadata": {
      "tags": []
     },
     "output_type": "execute_result"
    }
   ],
   "source": [
    "train_data[0]"
   ]
  },
  {
   "cell_type": "code",
   "execution_count": 0,
   "metadata": {
    "colab": {
     "base_uri": "https://localhost:8080/",
     "height": 34
    },
    "colab_type": "code",
    "executionInfo": {
     "elapsed": 1452,
     "status": "ok",
     "timestamp": 1578405290221,
     "user": {
      "displayName": "Ahmed Ghani",
      "photoUrl": "",
      "userId": "15127856023220592088"
     },
     "user_tz": -300
    },
    "id": "bt7JvsKq_RyX",
    "outputId": "17f850d9-cc87-4356-b752-ad7cbd8f1f9a"
   },
   "outputs": [
    {
     "data": {
      "text/plain": [
       "9999"
      ]
     },
     "execution_count": 6,
     "metadata": {
      "tags": []
     },
     "output_type": "execute_result"
    }
   ],
   "source": [
    "# Since we restricted ourselves to the top 10,000 most frequent words, no word index will exceed 10,000:\n",
    "\n",
    "max([max(sequence) for sequence in train_data])"
   ]
  },
  {
   "cell_type": "code",
   "execution_count": 0,
   "metadata": {
    "colab": {
     "base_uri": "https://localhost:8080/",
     "height": 51
    },
    "colab_type": "code",
    "executionInfo": {
     "elapsed": 2145,
     "status": "ok",
     "timestamp": 1578405300918,
     "user": {
      "displayName": "Ahmed Ghani",
      "photoUrl": "",
      "userId": "15127856023220592088"
     },
     "user_tz": -300
    },
    "id": "1wdB2DhbSVqJ",
    "outputId": "581c383a-87e8-4a1e-f21a-434a0dc6f2f6"
   },
   "outputs": [
    {
     "name": "stdout",
     "output_type": "stream",
     "text": [
      "Downloading data from https://s3.amazonaws.com/text-datasets/imdb_word_index.json\n",
      "1646592/1641221 [==============================] - 1s 0us/step\n"
     ]
    }
   ],
   "source": [
    "# word_index is a dictionary mapping words to an integer index\n",
    "word_index = imdb.get_word_index()"
   ]
  },
  {
   "cell_type": "code",
   "execution_count": 0,
   "metadata": {
    "colab": {},
    "colab_type": "code",
    "id": "GX7CjKGASYGE"
   },
   "outputs": [],
   "source": [
    "# We reverse it, mapping integer indices to words\n",
    "reverse_word_index = dict([(value, key) for (key, value) in word_index.items()])"
   ]
  },
  {
   "cell_type": "code",
   "execution_count": 0,
   "metadata": {
    "colab": {},
    "colab_type": "code",
    "id": "t2DrK1cYSasG"
   },
   "outputs": [],
   "source": [
    "# We decode the review; note that our indices were offset by 3\n",
    "# because 0, 1 and 2 are reserved indices for \"padding\", \"start of sequence\", and \"unknown\".\n",
    "\n",
    "\n",
    "decoding_reviews = ' '.join([reverse_word_index.get(i - 3, '?') for i in train_data[0]])"
   ]
  },
  {
   "cell_type": "code",
   "execution_count": 0,
   "metadata": {
    "colab": {
     "base_uri": "https://localhost:8080/",
     "height": 54
    },
    "colab_type": "code",
    "executionInfo": {
     "elapsed": 1020,
     "status": "ok",
     "timestamp": 1578405323325,
     "user": {
      "displayName": "Ahmed Ghani",
      "photoUrl": "",
      "userId": "15127856023220592088"
     },
     "user_tz": -300
    },
    "id": "i7T_o_ZUScY-",
    "outputId": "466e705e-d3ef-4821-c4cc-82bf1cee1a49"
   },
   "outputs": [
    {
     "data": {
      "text/plain": [
       "\"? this film was just brilliant casting location scenery story direction everyone's really suited the part they played and you could just imagine being there robert ? is an amazing actor and now the same being director ? father came from the same scottish island as myself so i loved the fact there was a real connection with this film the witty remarks throughout the film were great it was just brilliant so much that i bought the film as soon as it was released for ? and would recommend it to everyone to watch and the fly fishing was amazing really cried at the end it was so sad and you know what they say if you cry at a film it must have been good and this definitely was also ? to the two little boy's that played the ? of norman and paul they were just brilliant children are often left out of the ? list i think because the stars that play them all grown up are such a big profile for the whole film but these children are amazing and should be praised for what they have done don't you think the whole story was so lovely because it was true and was someone's life after all that was shared with us all\""
      ]
     },
     "execution_count": 10,
     "metadata": {
      "tags": []
     },
     "output_type": "execute_result"
    }
   ],
   "source": [
    "decoding_reviews"
   ]
  },
  {
   "cell_type": "markdown",
   "metadata": {
    "colab_type": "text",
    "id": "DnBZYxH7Sg_e"
   },
   "source": [
    "We cannot feed lists of integers into a neural network. We have to turn our lists into tensors."
   ]
  },
  {
   "cell_type": "code",
   "execution_count": 0,
   "metadata": {
    "colab": {},
    "colab_type": "code",
    "id": "m4AjV5UNSd2e"
   },
   "outputs": [],
   "source": [
    "import numpy as np\n",
    "def vectorize_sequences(sequences, dimension=10000):\n",
    "  results = np.zeros((len(sequences), dimension))\n",
    "  for i, sequence in enumerate(sequences):\n",
    "    results[i, sequence] = 1.\n",
    "  return results\n",
    "x_train = vectorize_sequences(train_data)\n",
    "x_test = vectorize_sequences(test_data)"
   ]
  },
  {
   "cell_type": "code",
   "execution_count": 0,
   "metadata": {
    "colab": {
     "base_uri": "https://localhost:8080/",
     "height": 136
    },
    "colab_type": "code",
    "executionInfo": {
     "elapsed": 1293,
     "status": "ok",
     "timestamp": 1578405366187,
     "user": {
      "displayName": "Ahmed Ghani",
      "photoUrl": "",
      "userId": "15127856023220592088"
     },
     "user_tz": -300
    },
    "id": "QwqsrUWhSkzN",
    "outputId": "86cb17bc-694f-45fb-aeb3-8385176ed39c"
   },
   "outputs": [
    {
     "data": {
      "text/plain": [
       "array([[0., 1., 1., ..., 0., 0., 0.],\n",
       "       [0., 1., 1., ..., 0., 0., 0.],\n",
       "       [0., 1., 1., ..., 0., 0., 0.],\n",
       "       ...,\n",
       "       [0., 1., 1., ..., 0., 0., 0.],\n",
       "       [0., 1., 1., ..., 0., 0., 0.],\n",
       "       [0., 1., 1., ..., 0., 0., 0.]])"
      ]
     },
     "execution_count": 12,
     "metadata": {
      "tags": []
     },
     "output_type": "execute_result"
    }
   ],
   "source": [
    "x_train"
   ]
  },
  {
   "cell_type": "code",
   "execution_count": 0,
   "metadata": {
    "colab": {},
    "colab_type": "code",
    "id": "BvPeOdBISoP2"
   },
   "outputs": [],
   "source": [
    "# Our vectorized labels# Our vectorized labels\n",
    "y_train = np.asarray(train_labels).astype('float32')\n",
    "y_test = np.asarray(test_labels).astype('float32')"
   ]
  },
  {
   "cell_type": "markdown",
   "metadata": {
    "colab_type": "text",
    "id": "wu_gPhY_St9U"
   },
   "source": [
    "Now our data is ready to be fed into a neural network."
   ]
  },
  {
   "cell_type": "code",
   "execution_count": 0,
   "metadata": {
    "colab": {
     "base_uri": "https://localhost:8080/",
     "height": 139
    },
    "colab_type": "code",
    "executionInfo": {
     "elapsed": 1417,
     "status": "ok",
     "timestamp": 1578405408525,
     "user": {
      "displayName": "Ahmed Ghani",
      "photoUrl": "",
      "userId": "15127856023220592088"
     },
     "user_tz": -300
    },
    "id": "soJmD2J4SqD_",
    "outputId": "299da02e-ac1d-47aa-f1b8-a8065af71a39"
   },
   "outputs": [
    {
     "name": "stdout",
     "output_type": "stream",
     "text": [
      "WARNING:tensorflow:From /usr/local/lib/python3.6/dist-packages/keras/backend/tensorflow_backend.py:66: The name tf.get_default_graph is deprecated. Please use tf.compat.v1.get_default_graph instead.\n",
      "\n",
      "WARNING:tensorflow:From /usr/local/lib/python3.6/dist-packages/keras/backend/tensorflow_backend.py:541: The name tf.placeholder is deprecated. Please use tf.compat.v1.placeholder instead.\n",
      "\n",
      "WARNING:tensorflow:From /usr/local/lib/python3.6/dist-packages/keras/backend/tensorflow_backend.py:4432: The name tf.random_uniform is deprecated. Please use tf.random.uniform instead.\n",
      "\n"
     ]
    }
   ],
   "source": [
    "from keras import models\n",
    "from keras import layers\n",
    "\n",
    "model = models.Sequential()\n",
    "model.add(layers.Dense(16, activation='relu', input_shape=(10000,)))\n",
    "model.add(layers.Dense(16, activation='relu'))\n",
    "model.add(layers.Dense(1, activation='sigmoid'))"
   ]
  },
  {
   "cell_type": "markdown",
   "metadata": {
    "colab_type": "text",
    "id": "PtNte9KPS0Ij"
   },
   "source": [
    "Here's the step where we configure our model with the rmsprop optimizer and the binary_crossentropy loss function. Note that we will also monitor accuracy during training."
   ]
  },
  {
   "cell_type": "code",
   "execution_count": 0,
   "metadata": {
    "colab": {
     "base_uri": "https://localhost:8080/",
     "height": 156
    },
    "colab_type": "code",
    "executionInfo": {
     "elapsed": 1273,
     "status": "ok",
     "timestamp": 1578405429685,
     "user": {
      "displayName": "Ahmed Ghani",
      "photoUrl": "",
      "userId": "15127856023220592088"
     },
     "user_tz": -300
    },
    "id": "CyXc-67ySyfF",
    "outputId": "a8fcb545-6aff-4155-949e-47d3d997709b"
   },
   "outputs": [
    {
     "name": "stdout",
     "output_type": "stream",
     "text": [
      "WARNING:tensorflow:From /usr/local/lib/python3.6/dist-packages/keras/optimizers.py:793: The name tf.train.Optimizer is deprecated. Please use tf.compat.v1.train.Optimizer instead.\n",
      "\n",
      "WARNING:tensorflow:From /usr/local/lib/python3.6/dist-packages/keras/backend/tensorflow_backend.py:3657: The name tf.log is deprecated. Please use tf.math.log instead.\n",
      "\n",
      "WARNING:tensorflow:From /usr/local/lib/python3.6/dist-packages/tensorflow_core/python/ops/nn_impl.py:183: where (from tensorflow.python.ops.array_ops) is deprecated and will be removed in a future version.\n",
      "Instructions for updating:\n",
      "Use tf.where in 2.0, which has the same broadcast rule as np.where\n"
     ]
    }
   ],
   "source": [
    "model.compile(optimizer='rmsprop',\n",
    "              loss = 'binary_crossentropy',\n",
    "              matrics = ['accuracy'])"
   ]
  },
  {
   "cell_type": "markdown",
   "metadata": {
    "colab_type": "text",
    "id": "sd9prTJnS5vu"
   },
   "source": [
    "We are passing our optimizer, loss function and metrics as strings, which is possible because rmsprop, binary_crossentropy and accuracy are packaged as part of Keras. Sometimes you may want to configure the parameters of your optimizer, or pass a custom loss function or metric function. This former can be done by passing an optimizer class instance as the optimizer argument:"
   ]
  },
  {
   "cell_type": "code",
   "execution_count": 0,
   "metadata": {
    "colab": {},
    "colab_type": "code",
    "id": "W7N91nc9S3tn"
   },
   "outputs": [],
   "source": [
    "from keras import optimizers\n",
    "\n",
    "model.compile(optimizer=optimizers.RMSprop(lr=0.001),\n",
    "              loss='binary_crossentropy',\n",
    "              metrics=['accuracy'])"
   ]
  },
  {
   "cell_type": "markdown",
   "metadata": {
    "colab_type": "text",
    "id": "mRcXuB53TBF2"
   },
   "source": [
    "The latter can be done by passing function objects as the loss or metrics arguments:"
   ]
  },
  {
   "cell_type": "code",
   "execution_count": 0,
   "metadata": {
    "colab": {},
    "colab_type": "code",
    "id": "o2B-phvIS_g9"
   },
   "outputs": [],
   "source": [
    "from keras import losses\n",
    "from keras import metrics\n",
    "\n",
    "model.compile(optimizer=optimizers.RMSprop(lr=0.001),\n",
    "              loss=losses.binary_crossentropy,\n",
    "              metrics=[metrics.binary_accuracy])"
   ]
  },
  {
   "cell_type": "markdown",
   "metadata": {
    "colab_type": "text",
    "id": "FQjW_5EVTE6h"
   },
   "source": [
    "Validating our approach In order to monitor during training the accuracy of the model on data that it has never seen before, we will create a \"validation set\" by setting apart 10,000 samples from the original training data:"
   ]
  },
  {
   "cell_type": "code",
   "execution_count": 0,
   "metadata": {
    "colab": {},
    "colab_type": "code",
    "id": "u246I5u3TDZt"
   },
   "outputs": [],
   "source": [
    "x_val = x_train[:10000]\n",
    "partial_x_train = x_train[10000:]\n",
    "\n",
    "y_val = y_train[:10000]\n",
    "partial_y_train = y_train[10000:]"
   ]
  },
  {
   "cell_type": "markdown",
   "metadata": {
    "colab_type": "text",
    "id": "TZbV9deqTJkO"
   },
   "source": [
    "We will now train our model for 20 epochs (20 iterations over all samples in the x_train and y_train tensors), in mini-batches of 512 samples. At this same time we will monitor loss and accuracy on the 10,000 samples that we set apart. This is done by passing the validation data as the validation_data argument:"
   ]
  },
  {
   "cell_type": "code",
   "execution_count": 0,
   "metadata": {
    "colab": {
     "base_uri": "https://localhost:8080/",
     "height": 714
    },
    "colab_type": "code",
    "executionInfo": {
     "elapsed": 28592,
     "status": "ok",
     "timestamp": 1578405814015,
     "user": {
      "displayName": "Ahmed Ghani",
      "photoUrl": "",
      "userId": "15127856023220592088"
     },
     "user_tz": -300
    },
    "id": "Vkr_ymcZTHmO",
    "outputId": "4d3a8fde-134a-4ed7-a428-6b355e76884b"
   },
   "outputs": [
    {
     "name": "stdout",
     "output_type": "stream",
     "text": [
      "Train on 15000 samples, validate on 10000 samples\n",
      "Epoch 1/20\n",
      "15000/15000 [==============================] - 2s 106us/step - loss: 0.0078 - binary_accuracy: 0.9979 - val_loss: 0.7356 - val_binary_accuracy: 0.8672\n",
      "Epoch 2/20\n",
      "15000/15000 [==============================] - 1s 93us/step - loss: 0.0016 - binary_accuracy: 0.9999 - val_loss: 0.7967 - val_binary_accuracy: 0.8607\n",
      "Epoch 3/20\n",
      "15000/15000 [==============================] - 1s 90us/step - loss: 0.0047 - binary_accuracy: 0.9991 - val_loss: 0.7947 - val_binary_accuracy: 0.8662\n",
      "Epoch 4/20\n",
      "15000/15000 [==============================] - 1s 90us/step - loss: 7.9967e-04 - binary_accuracy: 1.0000 - val_loss: 0.8141 - val_binary_accuracy: 0.8652\n",
      "Epoch 5/20\n",
      "15000/15000 [==============================] - 1s 92us/step - loss: 0.0034 - binary_accuracy: 0.9990 - val_loss: 0.8476 - val_binary_accuracy: 0.8625\n",
      "Epoch 6/20\n",
      "15000/15000 [==============================] - 1s 92us/step - loss: 5.2103e-04 - binary_accuracy: 1.0000 - val_loss: 0.8570 - val_binary_accuracy: 0.8631\n",
      "Epoch 7/20\n",
      "15000/15000 [==============================] - 1s 93us/step - loss: 4.1569e-04 - binary_accuracy: 1.0000 - val_loss: 0.8804 - val_binary_accuracy: 0.8619\n",
      "Epoch 8/20\n",
      "15000/15000 [==============================] - 1s 92us/step - loss: 0.0035 - binary_accuracy: 0.9990 - val_loss: 0.9816 - val_binary_accuracy: 0.8577\n",
      "Epoch 9/20\n",
      "15000/15000 [==============================] - 1s 93us/step - loss: 3.2527e-04 - binary_accuracy: 1.0000 - val_loss: 0.9315 - val_binary_accuracy: 0.8621\n",
      "Epoch 10/20\n",
      "15000/15000 [==============================] - 1s 91us/step - loss: 2.0318e-04 - binary_accuracy: 1.0000 - val_loss: 0.9481 - val_binary_accuracy: 0.8613\n",
      "Epoch 11/20\n",
      "15000/15000 [==============================] - 1s 92us/step - loss: 0.0022 - binary_accuracy: 0.9995 - val_loss: 1.0277 - val_binary_accuracy: 0.8569\n",
      "Epoch 12/20\n",
      "15000/15000 [==============================] - 1s 89us/step - loss: 2.0635e-04 - binary_accuracy: 1.0000 - val_loss: 0.9944 - val_binary_accuracy: 0.8603\n",
      "Epoch 13/20\n",
      "15000/15000 [==============================] - 1s 92us/step - loss: 1.1520e-04 - binary_accuracy: 1.0000 - val_loss: 1.0087 - val_binary_accuracy: 0.8609\n",
      "Epoch 14/20\n",
      "15000/15000 [==============================] - 1s 94us/step - loss: 8.9166e-05 - binary_accuracy: 1.0000 - val_loss: 1.0277 - val_binary_accuracy: 0.8608\n",
      "Epoch 15/20\n",
      "15000/15000 [==============================] - 1s 92us/step - loss: 0.0018 - binary_accuracy: 0.9997 - val_loss: 1.0629 - val_binary_accuracy: 0.8601\n",
      "Epoch 16/20\n",
      "15000/15000 [==============================] - 1s 91us/step - loss: 5.8191e-05 - binary_accuracy: 1.0000 - val_loss: 1.0670 - val_binary_accuracy: 0.8591\n",
      "Epoch 17/20\n",
      "15000/15000 [==============================] - 1s 91us/step - loss: 4.2991e-05 - binary_accuracy: 1.0000 - val_loss: 1.0782 - val_binary_accuracy: 0.8601\n",
      "Epoch 18/20\n",
      "15000/15000 [==============================] - 1s 91us/step - loss: 3.4329e-05 - binary_accuracy: 1.0000 - val_loss: 1.0982 - val_binary_accuracy: 0.8593\n",
      "Epoch 19/20\n",
      "15000/15000 [==============================] - 1s 92us/step - loss: 0.0023 - binary_accuracy: 0.9995 - val_loss: 1.1213 - val_binary_accuracy: 0.8602\n",
      "Epoch 20/20\n",
      "15000/15000 [==============================] - 1s 93us/step - loss: 1.9661e-05 - binary_accuracy: 1.0000 - val_loss: 1.1276 - val_binary_accuracy: 0.8610\n"
     ]
    }
   ],
   "source": [
    "history = model.fit(partial_x_train,\n",
    "                    partial_y_train,\n",
    "                    epochs=20,\n",
    "                    batch_size=512,\n",
    "                    validation_data=(x_val, y_val))"
   ]
  },
  {
   "cell_type": "markdown",
   "metadata": {
    "colab_type": "text",
    "id": "yRxpsH6TTbYA"
   },
   "source": [
    "On CPU, this will take less than two seconds per epoch -- training is over in 20 seconds. At the end of every epoch, there is a slight pause as the model computes its loss and accuracy on the 10,000 samples of the validation data.\n",
    "\n",
    "Note that the call to model.fit() returns a History object. This object has a member history, which is a dictionary containing data about everything that happened during training. Let's take a look at it:"
   ]
  },
  {
   "cell_type": "code",
   "execution_count": 0,
   "metadata": {
    "colab": {
     "base_uri": "https://localhost:8080/",
     "height": 34
    },
    "colab_type": "code",
    "executionInfo": {
     "elapsed": 1038,
     "status": "ok",
     "timestamp": 1578405818412,
     "user": {
      "displayName": "Ahmed Ghani",
      "photoUrl": "",
      "userId": "15127856023220592088"
     },
     "user_tz": -300
    },
    "id": "Io7o7DluTL9u",
    "outputId": "d7e4d2eb-4e30-45d5-b408-a216d2cedc60"
   },
   "outputs": [
    {
     "data": {
      "text/plain": [
       "dict_keys(['val_loss', 'val_binary_accuracy', 'loss', 'binary_accuracy'])"
      ]
     },
     "execution_count": 30,
     "metadata": {
      "tags": []
     },
     "output_type": "execute_result"
    }
   ],
   "source": [
    "history_dict = history.history\n",
    "history_dict.keys()"
   ]
  },
  {
   "cell_type": "markdown",
   "metadata": {
    "colab_type": "text",
    "id": "3-8Zd_X-Tgqb"
   },
   "source": [
    "It contains 4 entries: one per metric that was being monitored, during training and during validation. Let's use Matplotlib to plot the training and validation loss side by side, as well as the training and validation accuracy:"
   ]
  },
  {
   "cell_type": "code",
   "execution_count": 0,
   "metadata": {
    "colab": {
     "base_uri": "https://localhost:8080/",
     "height": 295
    },
    "colab_type": "code",
    "executionInfo": {
     "elapsed": 1498,
     "status": "ok",
     "timestamp": 1578405984992,
     "user": {
      "displayName": "Ahmed Ghani",
      "photoUrl": "",
      "userId": "15127856023220592088"
     },
     "user_tz": -300
    },
    "id": "zY1PubeQTeFe",
    "outputId": "4341bf72-6261-49df-dcda-ea503b93c949"
   },
   "outputs": [
    {
     "data": {
      "image/png": "[encoded data removed]",
      "text/plain": [
       "<Figure size 432x288 with 1 Axes>"
      ]
     },
     "metadata": {
      "tags": []
     },
     "output_type": "display_data"
    }
   ],
   "source": [
    "import matplotlib.pyplot as plt\n",
    "\n",
    "acc = history.history['binary_accuracy']\n",
    "val_acc = history.history['loss']\n",
    "loss = history.history['val_binary_accuracy']\n",
    "val_loss = history.history['val_loss']\n",
    "\n",
    "epochs = range(1, len(acc) + 1)\n",
    "\n",
    "# \"bo\" is for \"blue dot\"\n",
    "plt.plot(epochs, loss, 'bo', label='Training loss')\n",
    "# b is for \"solid blue line\"\n",
    "plt.plot(epochs, val_loss, 'b', label='Validation loss')\n",
    "plt.title('Training and validation loss')\n",
    "plt.xlabel('Epochs')\n",
    "plt.ylabel('Loss')\n",
    "plt.legend()\n",
    "\n",
    "plt.show()"
   ]
  },
  {
   "cell_type": "code",
   "execution_count": 0,
   "metadata": {
    "colab": {},
    "colab_type": "code",
    "id": "kgEhoFDxT0FN"
   },
   "outputs": [],
   "source": [
    "#plt.clf()   # clear figure\n",
    "#acc_values = history_dict['binary_accuracy']\n",
    "#val_acc_values = history_dict['loss']\n",
    "\n",
    "#plt.plot(epochs, acc, 'bo', label='Training acc')\n",
    "#plt.plot(epochs, val_acc, 'b', label='Validation acc')\n",
    "#plt.title('Training and validation accuracy')\n",
    "#plt.xlabel('Epochs')\n",
    "#plt.ylabel('Loss')\n",
    "#plt.legend()\n",
    "\n",
    "#plt.show()"
   ]
  },
  {
   "cell_type": "markdown",
   "metadata": {
    "colab_type": "text",
    "id": "ZotbtGx4V9WM"
   },
   "source": [
    "Let's train a new network from scratch for four epochs, then evaluate it on our test data:"
   ]
  },
  {
   "cell_type": "code",
   "execution_count": 0,
   "metadata": {
    "colab": {
     "base_uri": "https://localhost:8080/",
     "height": 170
    },
    "colab_type": "code",
    "executionInfo": {
     "elapsed": 10369,
     "status": "ok",
     "timestamp": 1578406261962,
     "user": {
      "displayName": "Ahmed Ghani",
      "photoUrl": "",
      "userId": "15127856023220592088"
     },
     "user_tz": -300
    },
    "id": "_xPo5f8wVD1e",
    "outputId": "834936cd-a18e-4ae4-817c-b0612cbbe42b"
   },
   "outputs": [
    {
     "name": "stdout",
     "output_type": "stream",
     "text": [
      "Epoch 1/4\n",
      "25000/25000 [==============================] - 2s 80us/step - loss: 0.4540 - acc: 0.8183\n",
      "Epoch 2/4\n",
      "25000/25000 [==============================] - 2s 70us/step - loss: 0.2627 - acc: 0.9102\n",
      "Epoch 3/4\n",
      "25000/25000 [==============================] - 2s 67us/step - loss: 0.2038 - acc: 0.9279\n",
      "Epoch 4/4\n",
      "25000/25000 [==============================] - 2s 68us/step - loss: 0.1709 - acc: 0.9399\n",
      "25000/25000 [==============================] - 2s 72us/step\n"
     ]
    }
   ],
   "source": [
    "model = models.Sequential()\n",
    "model.add(layers.Dense(16, activation='relu', input_shape=(10000,)))\n",
    "model.add(layers.Dense(16, activation='relu'))\n",
    "model.add(layers.Dense(1, activation='sigmoid'))\n",
    "\n",
    "model.compile(optimizer='rmsprop',\n",
    "              loss='binary_crossentropy',\n",
    "              metrics=['accuracy'])\n",
    "\n",
    "model.fit(x_train, y_train, epochs=4, batch_size=512)\n",
    "results = model.evaluate(x_test, y_test)"
   ]
  },
  {
   "cell_type": "code",
   "execution_count": 0,
   "metadata": {
    "colab": {
     "base_uri": "https://localhost:8080/",
     "height": 34
    },
    "colab_type": "code",
    "executionInfo": {
     "elapsed": 988,
     "status": "ok",
     "timestamp": 1578406287897,
     "user": {
      "displayName": "Ahmed Ghani",
      "photoUrl": "",
      "userId": "15127856023220592088"
     },
     "user_tz": -300
    },
    "id": "uUyXvE2AWAul",
    "outputId": "25b22aea-86c0-4f9f-9fa6-96b4434792fa"
   },
   "outputs": [
    {
     "data": {
      "text/plain": [
       "[0.2902780948448181, 0.88476]"
      ]
     },
     "execution_count": 48,
     "metadata": {
      "tags": []
     },
     "output_type": "execute_result"
    }
   ],
   "source": [
    "results"
   ]
  },
  {
   "cell_type": "markdown",
   "metadata": {
    "colab_type": "text",
    "id": "DXfq5jyjWNY9"
   },
   "source": [
    "Our fairly naive approach achieves an accuracy of 88%. With state-of-the-art approaches, one should be able to get close to 95%.\n",
    "\n",
    "Using a trained network to generate predictions on new data\n",
    "After having trained a network, you will want to use it in a practical setting. You can generate the likelihood of reviews being positive by using the predict method:"
   ]
  },
  {
   "cell_type": "code",
   "execution_count": 0,
   "metadata": {
    "colab": {
     "base_uri": "https://localhost:8080/",
     "height": 136
    },
    "colab_type": "code",
    "executionInfo": {
     "elapsed": 2942,
     "status": "ok",
     "timestamp": 1578406330411,
     "user": {
      "displayName": "Ahmed Ghani",
      "photoUrl": "",
      "userId": "15127856023220592088"
     },
     "user_tz": -300
    },
    "id": "MwPxTIwvWH-m",
    "outputId": "128e8cc9-d786-4f95-95ac-5ea71e937a63"
   },
   "outputs": [
    {
     "data": {
      "text/plain": [
       "array([[0.1881864 ],\n",
       "       [0.9988438 ],\n",
       "       [0.9074842 ],\n",
       "       ...,\n",
       "       [0.10727322],\n",
       "       [0.0791012 ],\n",
       "       [0.61902547]], dtype=float32)"
      ]
     },
     "execution_count": 49,
     "metadata": {
      "tags": []
     },
     "output_type": "execute_result"
    }
   ],
   "source": [
    "model.predict(x_test)"
   ]
  }
 ],
 "metadata": {
  "colab": {
   "collapsed_sections": [],
   "name": "3.5 Book(Deep Learning with python).ipynb",
   "provenance": []
  },
  "kernelspec": {
   "display_name": "Python 3",
   "language": "python",
   "name": "python3"
  },
  "language_info": {
   "codemirror_mode": {
    "name": "ipython",
    "version": 3
   },
   "file_extension": ".py",
   "mimetype": "text/x-python",
   "name": "python",
   "nbconvert_exporter": "python",
   "pygments_lexer": "ipython3",
   "version": "3.6.4"
  }
 },
 "nbformat": 4,
 "nbformat_minor": 1
}
